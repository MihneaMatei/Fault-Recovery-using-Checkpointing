{
 "cells": [
  {
   "cell_type": "code",
   "execution_count": 4,
   "id": "a553e39d",
   "metadata": {},
   "outputs": [],
   "source": [
    "import paramiko\n",
    "import random\n",
    "import time"
   ]
  },
  {
   "cell_type": "code",
   "execution_count": 5,
   "id": "d911cffb",
   "metadata": {},
   "outputs": [],
   "source": [
    "def establish_ssh_connection(hostname, username, password):\n",
    "    client = paramiko.SSHClient()\n",
    "    client.set_missing_host_key_policy(paramiko.AutoAddPolicy())\n",
    "    client.connect(hostname, username=username, password=password)\n",
    "    return client\n",
    "\n",
    "def execute_ssh_command(ssh_client, command):\n",
    "    stdin, stdout, stderr = ssh_client.exec_command(command)\n",
    "    output = stdout.read().decode().strip()\n",
    "    error = stderr.read().decode().strip()\n",
    "    if error:\n",
    "        print(f\"Error executing command '{command}': {error}\")\n",
    "    return output\n",
    "\n",
    "def inject_fault(ssh_client, service_name, files):\n",
    "    fault_type = random.choice(['stop_service', 'corrupt_file'])\n",
    "    \n",
    "    if fault_type == 'stop_service':\n",
    "        print(f\"Stopping {service_name}...\")\n",
    "        execute_ssh_command(ssh_client, f\"systemctl stop {service_name}\")\n",
    "        print(f\"{service_name} stopped for fault injection.\")\n",
    "    elif fault_type == 'corrupt_file':\n",
    "        # Randomly select a file to corrupt\n",
    "        file_to_corrupt = random.choice(files)\n",
    "        print(f\"Corrupting file {file_to_corrupt}...\")\n",
    "        execute_ssh_command(ssh_client, f\"echo 'Corrupted content!' > {file_to_corrupt}\")\n",
    "        print(f\"Injected corruption into {file_to_corrupt}.\")"
   ]
  },
  {
   "cell_type": "code",
   "execution_count": 6,
   "id": "4f482d97",
   "metadata": {},
   "outputs": [
    {
     "name": "stdout",
     "output_type": "stream",
     "text": [
      "Stopping nginx...\n",
      "nginx stopped for fault injection.\n",
      "Fault injection complete. Waiting for next round...\n",
      "Corrupting file /etc/httpd/conf/httpd.conf...\n",
      "Injected corruption into /etc/httpd/conf/httpd.conf.\n",
      "Fault injection complete. Waiting for next round...\n",
      "Fault injection script terminated.\n"
     ]
    }
   ],
   "source": [
    "vm_details_file = \"vms.txt\"\n",
    "\n",
    "vm_details = []\n",
    "with open(vm_details_file, \"r\") as file:\n",
    "    for line in file:\n",
    "        vm_details.append(line.strip().split())\n",
    "\n",
    "service_file = \"services.txt\"\n",
    "services = {}\n",
    "with open(service_file, \"r\") as file:\n",
    "    for line in file:\n",
    "        parts = line.strip().split()\n",
    "        service_name = parts[0]\n",
    "        files_to_monitor = parts[1:]\n",
    "        services[service_name] = files_to_monitor\n",
    "        \n",
    "try:\n",
    "    while True:\n",
    "        for vm_detail in vm_details:\n",
    "            vm_ip, vm_hostname, vm_username, vm_password = vm_detail\n",
    "            vm_ssh = establish_ssh_connection(vm_ip, vm_username, vm_password)\n",
    "            \n",
    "            service_name, files = random.choice(list(services.items()))\n",
    "            inject_fault(vm_ssh, service_name, files)\n",
    "            vm_ssh.close()\n",
    "        print(\"Fault injection complete. Waiting for next round...\")\n",
    "        time.sleep(60)  # Wait for 60 seconds before next fault injection round\n",
    "\n",
    "except KeyboardInterrupt:\n",
    "    print(\"Fault injection script terminated.\")"
   ]
  },
  {
   "cell_type": "code",
   "execution_count": null,
   "id": "285519ab",
   "metadata": {},
   "outputs": [],
   "source": []
  }
 ],
 "metadata": {
  "kernelspec": {
   "display_name": "Python 3 (ipykernel)",
   "language": "python",
   "name": "python3"
  },
  "language_info": {
   "codemirror_mode": {
    "name": "ipython",
    "version": 3
   },
   "file_extension": ".py",
   "mimetype": "text/x-python",
   "name": "python",
   "nbconvert_exporter": "python",
   "pygments_lexer": "ipython3",
   "version": "3.11.5"
  }
 },
 "nbformat": 4,
 "nbformat_minor": 5
}
